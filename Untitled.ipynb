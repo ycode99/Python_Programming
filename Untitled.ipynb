{
 "cells": [
  {
   "cell_type": "code",
   "execution_count": 5,
   "id": "aa91ced3",
   "metadata": {},
   "outputs": [],
   "source": [
    "from time import sleep"
   ]
  },
  {
   "cell_type": "code",
   "execution_count": 6,
   "id": "4ba5d582",
   "metadata": {},
   "outputs": [],
   "source": [
    "import itertools"
   ]
  },
  {
   "cell_type": "code",
   "execution_count": 7,
   "id": "65744295",
   "metadata": {},
   "outputs": [],
   "source": [
    "import random"
   ]
  },
  {
   "cell_type": "code",
   "execution_count": 8,
   "id": "6adba499",
   "metadata": {},
   "outputs": [],
   "source": [
    "colours = 'Red Green Amber'.split()\n",
    "rotation = itertools.cycle(colours)"
   ]
  },
  {
   "cell_type": "code",
   "execution_count": 9,
   "id": "bdf0c603",
   "metadata": {},
   "outputs": [],
   "source": [
    "def rg_timer():\n",
    "    return random.randint(3, 7)"
   ]
  },
  {
   "cell_type": "code",
   "execution_count": null,
   "id": "6b26586d",
   "metadata": {},
   "outputs": [
    {
     "name": "stdout",
     "output_type": "stream",
     "text": [
      "STOP! The light is Red\n",
      "Go! The light is Green\n",
      "Caution! The light is Amber\n",
      "STOP! The light is Red\n",
      "Go! The light is Green\n",
      "Caution! The light is Amber\n",
      "STOP! The light is Red\n",
      "Go! The light is Green\n",
      "Caution! The light is Amber\n",
      "STOP! The light is Red\n",
      "Go! The light is Green\n",
      "Caution! The light is Amber\n",
      "STOP! The light is Red\n",
      "Go! The light is Green\n",
      "Caution! The light is Amber\n",
      "STOP! The light is Red\n",
      "Go! The light is Green\n",
      "Caution! The light is Amber\n",
      "STOP! The light is Red\n",
      "Go! The light is Green\n",
      "Caution! The light is Amber\n",
      "STOP! The light is Red\n",
      "Go! The light is Green\n",
      "Caution! The light is Amber\n",
      "STOP! The light is Red\n",
      "Go! The light is Green\n",
      "Caution! The light is Amber\n",
      "STOP! The light is Red\n",
      "Go! The light is Green\n",
      "Caution! The light is Amber\n",
      "STOP! The light is Red\n",
      "Go! The light is Green\n",
      "Caution! The light is Amber\n",
      "STOP! The light is Red\n",
      "Go! The light is Green\n",
      "Caution! The light is Amber\n"
     ]
    }
   ],
   "source": [
    "def light_rotation(rotation):\n",
    "    for colour in rotation:\n",
    "        if colour == 'Amber':\n",
    "            print('Caution! The light is %s' % colour)\n",
    "            sleep(3)\n",
    "        elif colour == 'Red':\n",
    "            print('STOP! The light is %s' % colour)\n",
    "            sleep(rg_timer())\n",
    "        else:\n",
    "            print('Go! The light is %s' % colour)\n",
    "            sleep(rg_timer())\n",
    "\n",
    "if __name__ == '__main__':\n",
    "    light_rotation(rotation)"
   ]
  },
  {
   "cell_type": "code",
   "execution_count": null,
   "id": "157895db",
   "metadata": {},
   "outputs": [],
   "source": []
  }
 ],
 "metadata": {
  "kernelspec": {
   "display_name": "Python 3 (ipykernel)",
   "language": "python",
   "name": "python3"
  },
  "language_info": {
   "codemirror_mode": {
    "name": "ipython",
    "version": 3
   },
   "file_extension": ".py",
   "mimetype": "text/x-python",
   "name": "python",
   "nbconvert_exporter": "python",
   "pygments_lexer": "ipython3",
   "version": "3.11.4"
  }
 },
 "nbformat": 4,
 "nbformat_minor": 5
}
