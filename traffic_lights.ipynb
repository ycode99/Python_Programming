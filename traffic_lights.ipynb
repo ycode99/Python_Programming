{
 "cells": [
  {
   "cell_type": "code",
   "execution_count": 5,
   "id": "c123b7cd",
   "metadata": {},
   "outputs": [],
   "source": [
    "from time import sleep"
   ]
  },
  {
   "cell_type": "code",
   "execution_count": 6,
   "id": "07765177",
   "metadata": {},
   "outputs": [],
   "source": [
    "import itertools"
   ]
  },
  {
   "cell_type": "code",
   "execution_count": 7,
   "id": "bc298566",
   "metadata": {},
   "outputs": [],
   "source": [
    "import random"
   ]
  },
  {
   "cell_type": "code",
   "execution_count": 8,
   "id": "4ff9521a",
   "metadata": {},
   "outputs": [],
   "source": [
    "colours = 'Red Green Amber'.split()\n",
    "rotation = itertools.cycle(colours)"
   ]
  },
  {
   "cell_type": "code",
   "execution_count": 9,
   "id": "2d86e966",
   "metadata": {},
   "outputs": [],
   "source": [
    "def rg_timer():\n",
    "    return random.randint(3, 7)"
   ]
  },
  {
   "cell_type": "code",
   "execution_count": null,
   "id": "60ca68bc",
   "metadata": {},
   "outputs": [
    {
     "name": "stdout",
     "output_type": "stream",
     "text": [
      "STOP! The light is Red\n",
      "Go! The light is Green\n",
      "Caution! The light is Amber\n",
      "STOP! The light is Red\n",
      "Go! The light is Green\n",
      "Caution! The light is Amber\n",
      "STOP! The light is Red\n",
      "Go! The light is Green\n",
      "Caution! The light is Amber\n",
      "STOP! The light is Red\n",
      "Go! The light is Green\n",
      "Caution! The light is Amber\n",
      "STOP! The light is Red\n",
      "Go! The light is Green\n",
      "Caution! The light is Amber\n",
      "STOP! The light is Red\n",
      "Go! The light is Green\n",
      "Caution! The light is Amber\n",
      "STOP! The light is Red\n",
      "Go! The light is Green\n",
      "Caution! The light is Amber\n",
      "STOP! The light is Red\n",
      "Go! The light is Green\n",
      "Caution! The light is Amber\n",
      "STOP! The light is Red\n",
      "Go! The light is Green\n",
      "Caution! The light is Amber\n",
      "STOP! The light is Red\n",
      "Go! The light is Green\n",
      "Caution! The light is Amber\n",
      "STOP! The light is Red\n",
      "Go! The light is Green\n",
      "Caution! The light is Amber\n",
      "STOP! The light is Red\n",
      "Go! The light is Green\n",
      "Caution! The light is Amber\n",
      "STOP! The light is Red\n",
      "Go! The light is Green\n",
      "Caution! The light is Amber\n",
      "STOP! The light is Red\n",
      "Go! The light is Green\n",
      "Caution! The light is Amber\n",
      "STOP! The light is Red\n",
      "Go! The light is Green\n",
      "Caution! The light is Amber\n",
      "STOP! The light is Red\n",
      "Go! The light is Green\n",
      "Caution! The light is Amber\n",
      "STOP! The light is Red\n",
      "Go! The light is Green\n",
      "Caution! The light is Amber\n",
      "STOP! The light is Red\n",
      "Go! The light is Green\n",
      "Caution! The light is Amber\n",
      "STOP! The light is Red\n",
      "Go! The light is Green\n",
      "Caution! The light is Amber\n",
      "STOP! The light is Red\n",
      "Go! The light is Green\n",
      "Caution! The light is Amber\n",
      "STOP! The light is Red\n"
     ]
    }
   ],
   "source": [
    "def light_rotation(rotation):\n",
    "    for colour in rotation:\n",
    "        if colour == 'Amber':\n",
    "            print('Caution! The light is %s' % colour)\n",
    "            sleep(3)\n",
    "        elif colour == 'Red':\n",
    "            print('STOP! The light is %s' % colour)\n",
    "            sleep(rg_timer())\n",
    "        else:\n",
    "            print('Go! The light is %s' % colour)\n",
    "            sleep(rg_timer())\n",
    "\n",
    "if __name__ == '__main__':\n",
    "    light_rotation(rotation)"
   ]
  },
  {
   "cell_type": "code",
   "execution_count": null,
   "id": "df29e2ce",
   "metadata": {},
   "outputs": [],
   "source": []
  }
 ],
 "metadata": {
  "kernelspec": {
   "display_name": "Python 3 (ipykernel)",
   "language": "python",
   "name": "python3"
  },
  "language_info": {
   "codemirror_mode": {
    "name": "ipython",
    "version": 3
   },
   "file_extension": ".py",
   "mimetype": "text/x-python",
   "name": "python",
   "nbconvert_exporter": "python",
   "pygments_lexer": "ipython3",
   "version": "3.11.4"
  }
 },
 "nbformat": 4,
 "nbformat_minor": 5
}
